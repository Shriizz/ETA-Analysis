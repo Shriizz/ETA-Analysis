{
 "cells": [
  {
   "cell_type": "markdown",
   "metadata": {},
   "source": [
    "# Problem statement 9"
   ]
  },
  {
   "cell_type": "code",
   "execution_count": 2,
   "metadata": {},
   "outputs": [],
   "source": [
    "import pandas as pd\n",
    "\n",
    "census = pd.read_csv(\"Clean_Data/census.csv\")\n",
    "housing = pd.read_csv(\"Clean_Data/housing.csv\")"
   ]
  },
  {
   "cell_type": "code",
   "execution_count": 4,
   "metadata": {},
   "outputs": [
    {
     "name": "stdout",
     "output_type": "stream",
     "text": [
      "Districts with major differences in Households_Rural or Households_Urban:\n"
     ]
    },
    {
     "data": {
      "text/plain": [
       "Hamirpur      24\n",
       "Bilaspur      24\n",
       "Pratapgarh    24\n",
       "Aurangabad    24\n",
       "Raigarh       24\n",
       "Bijapur       24\n",
       "Name: District, dtype: int64"
      ]
     },
     "execution_count": 4,
     "metadata": {},
     "output_type": "execute_result"
    }
   ],
   "source": [
    "# Merge the datasets based on district name\n",
    "merged_data = pd.merge(housing, census, on = \"District\", how=\"inner\")\n",
    "\n",
    "# Calculate the percentage difference between Households_Rural and Households_Urban\n",
    "merged_data['Rural_Difference'] = (merged_data['Households_Rural_x'] - merged_data['Households_Rural_y']) / merged_data['Households_Rural_y'] * 100\n",
    "merged_data['Urban_Difference'] = (merged_data['Households_Urban_x'] - merged_data['Households_Urban_y']) / merged_data['Households_Urban_y'] * 100\n",
    "\n",
    "# Identify districts with major differences (> 10%)\n",
    "major_differences = merged_data[(abs(merged_data['Rural_Difference']) > 10) | (abs(merged_data['Urban_Difference']) > 10)]\n",
    "\n",
    "# Report names of districts with major differences\n",
    "districts_with_major_differences = major_differences['District']\n",
    "print(\"Districts with major differences in Households_Rural or Households_Urban:\")\n",
    "districts_with_major_differences.value_counts()"
   ]
  },
  {
   "cell_type": "code",
   "execution_count": 3,
   "metadata": {},
   "outputs": [
    {
     "data": {
      "text/plain": [
       "['State Name_x',\n",
       " 'District',\n",
       " 'Households_Rural',\n",
       " 'Households_Rural_Dilapidated',\n",
       " 'Households_Rural_Toilet_Premise',\n",
       " 'State Name_y',\n",
       " 'Households_Urban',\n",
       " 'Households_Urban_Dilapidated',\n",
       " 'Households_Urban_Toilet_Premise']"
      ]
     },
     "execution_count": 3,
     "metadata": {},
     "output_type": "execute_result"
    }
   ],
   "source": [
    "housing.columns.tolist()"
   ]
  },
  {
   "cell_type": "code",
   "execution_count": 4,
   "metadata": {},
   "outputs": [
    {
     "data": {
      "text/plain": [
       "['State/UT',\n",
       " 'District',\n",
       " 'Population',\n",
       " 'Male',\n",
       " 'Female',\n",
       " 'Literate',\n",
       " 'Literate_Male',\n",
       " 'Literate_Female',\n",
       " 'Households_Rural',\n",
       " 'Households_Urban',\n",
       " 'Households',\n",
       " 'Young_and_Adult',\n",
       " 'Middle_Aged',\n",
       " 'Senior_Citizen',\n",
       " 'Age_Not_Stated']"
      ]
     },
     "execution_count": 4,
     "metadata": {},
     "output_type": "execute_result"
    }
   ],
   "source": [
    "census.columns.tolist()"
   ]
  },
  {
   "cell_type": "code",
   "execution_count": null,
   "metadata": {},
   "outputs": [],
   "source": []
  }
 ],
 "metadata": {
  "kernelspec": {
   "display_name": "Python 3",
   "language": "python",
   "name": "python3"
  },
  "language_info": {
   "codemirror_mode": {
    "name": "ipython",
    "version": 3
   },
   "file_extension": ".py",
   "mimetype": "text/x-python",
   "name": "python",
   "nbconvert_exporter": "python",
   "pygments_lexer": "ipython3",
   "version": "3.10.11"
  }
 },
 "nbformat": 4,
 "nbformat_minor": 2
}
