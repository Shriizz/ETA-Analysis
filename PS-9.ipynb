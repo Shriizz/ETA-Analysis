{
 "cells": [
  {
   "cell_type": "markdown",
   "metadata": {},
   "source": [
    "# Problem statement 9"
   ]
  },
  {
   "cell_type": "code",
   "execution_count": 2,
   "metadata": {},
   "outputs": [],
   "source": [
    "import pandas as pd\n",
    "\n",
    "census = pd.read_csv(\"Clean_Data/census.csv\")\n",
    "housing = pd.read_csv(\"Clean_Data/housing.csv\")"
   ]
  },
  {
   "cell_type": "code",
   "execution_count": 4,
   "metadata": {},
   "outputs": [
    {
     "name": "stdout",
     "output_type": "stream",
     "text": [
      "Districts with major differences in Households_Rural or Households_Urban:\n"
     ]
    },
    {
     "data": {
      "text/plain": [
       "Hamirpur      24\n",
       "Bilaspur      24\n",
       "Pratapgarh    24\n",
       "Aurangabad    24\n",
       "Raigarh       24\n",
       "Bijapur       24\n",
       "Name: District, dtype: int64"
      ]
     },
     "execution_count": 4,
     "metadata": {},
     "output_type": "execute_result"
    }
   ],
   "source": [
    "# Identify redundant columns in both datasets\n",
    "housing_redundant_cols = ['Households_Rural', 'Households_Urban']\n",
    "census_redundant_cols = ['Households_Rural', 'Households_Urban']\n",
    "\n",
    "# Calculate percentage difference for each district\n",
    "merged_data = pd.merge(housing, , on='District')\n",
    "for col in housing_redundant_cols:\n",
    "    col_x = col + '_x'  # for housing data\n",
    "    col_y = col + '_y'  # for census data\n",
    "    merged_data[col + '_diff_percentage'] = ((merged_data[col_x] - merged_data[col_y]) / merged_data[col_x]) * 100\n",
    "\n",
    "# Filter districts with significant differences (> 10%)\n",
    "rural_diff = merged_data[abs(merged_data['Households_Rural_diff_percentage']) > 10]['District']\n",
    "urban_diff = merged_data[abs(merged_data['Households_Urban_diff_percentage']) > 10]['District']\n",
    "\n",
    "# Concatenate the two Series\n",
    "significant_diff_districts = pd.concat([rural_diff, urban_diff]).drop_duplicates()\n",
    "\n",
    "# Report the names of districts with major differences\n",
    "print(\"Districts with major differences (> 10%) in household counts between housing and census data:\")\n",
    "print(significant_diff_districts)"
   ]
  },
  {
   "cell_type": "code",
   "execution_count": 3,
   "metadata": {},
   "outputs": [
    {
     "data": {
      "text/plain": [
       "['State Name_x',\n",
       " 'District',\n",
       " 'Households_Rural',\n",
       " 'Households_Rural_Dilapidated',\n",
       " 'Households_Rural_Toilet_Premise',\n",
       " 'State Name_y',\n",
       " 'Households_Urban',\n",
       " 'Households_Urban_Dilapidated',\n",
       " 'Households_Urban_Toilet_Premise']"
      ]
     },
     "execution_count": 3,
     "metadata": {},
     "output_type": "execute_result"
    }
   ],
   "source": [
    "housing.columns.tolist()"
   ]
  },
  {
   "cell_type": "code",
   "execution_count": 4,
   "metadata": {},
   "outputs": [
    {
     "data": {
      "text/plain": [
       "['State/UT',\n",
       " 'District',\n",
       " 'Population',\n",
       " 'Male',\n",
       " 'Female',\n",
       " 'Literate',\n",
       " 'Literate_Male',\n",
       " 'Literate_Female',\n",
       " 'Households_Rural',\n",
       " 'Households_Urban',\n",
       " 'Households',\n",
       " 'Young_and_Adult',\n",
       " 'Middle_Aged',\n",
       " 'Senior_Citizen',\n",
       " 'Age_Not_Stated']"
      ]
     },
     "execution_count": 4,
     "metadata": {},
     "output_type": "execute_result"
    }
   ],
   "source": [
    "census.columns.tolist()"
   ]
  },
  {
   "cell_type": "code",
   "execution_count": null,
   "metadata": {},
   "outputs": [],
   "source": []
  }
 ],
 "metadata": {
  "kernelspec": {
   "display_name": "Python 3",
   "language": "python",
   "name": "python3"
  },
  "language_info": {
   "codemirror_mode": {
    "name": "ipython",
    "version": 3
   },
   "file_extension": ".py",
   "mimetype": "text/x-python",
   "name": "python",
   "nbconvert_exporter": "python",
   "pygments_lexer": "ipython3",
   "version": "3.10.11"
  }
 },
 "nbformat": 4,
 "nbformat_minor": 2
}
