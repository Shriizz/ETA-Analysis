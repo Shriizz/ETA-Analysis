{
 "cells": [
  {
   "cell_type": "code",
   "execution_count": 57,
   "metadata": {},
   "outputs": [
    {
     "name": "stdout",
     "output_type": "stream",
     "text": [
      "<mysql.connector.connection.MySQLConnection object at 0x00000229F4D3EC80>\n"
     ]
    }
   ],
   "source": [
    "import mysql.connector\n",
    "import pandas as pd \n",
    "from mysql.connector import Error\n",
    " \n",
    "# Creating connection object\n",
    "mydb = mysql.connector.connect(\n",
    "    host = \"localhost\",\n",
    "    port = \"3307\",\n",
    "    user = \"root\",\n",
    "    password = \"Josh&2002\"\n",
    ")\n",
    " \n",
    "# Printing the connection object \n",
    "print(mydb)"
   ]
  },
  {
   "cell_type": "code",
   "execution_count": 58,
   "metadata": {},
   "outputs": [
    {
     "name": "stdout",
     "output_type": "stream",
     "text": [
      "futurenese_employees\n",
      "futurenseusers\n",
      "information_schema\n",
      "mysql\n",
      "performance_schema\n",
      "project_healthcare\n",
      "sakila\n",
      "sys\n",
      "world\n"
     ]
    }
   ],
   "source": [
    "import mysql.connector\n",
    "\n",
    "# Creating connection object\n",
    "mydb = mysql.connector.connect(\n",
    "    host=\"localhost\",\n",
    "    port=\"3307\",\n",
    "    user=\"root\",\n",
    "    password=\"Josh&2002\"\n",
    ")\n",
    "\n",
    "# Creating an instance of 'cursor' class \n",
    "# which is used to execute the 'SQL' \n",
    "# statements in 'Python'\n",
    "cursor = mydb.cursor()\n",
    "\n",
    "# Show databases\n",
    "cursor.execute(\"SHOW DATABASES\")\n",
    "\n",
    "# Fetch all the rows\n",
    "databases = cursor.fetchall()\n",
    "\n",
    "# Print the databases\n",
    "for database in databases:\n",
    "    print(database[0])\n"
   ]
  },
  {
   "cell_type": "code",
   "execution_count": 59,
   "metadata": {},
   "outputs": [],
   "source": [
    "import mysql.connector\n",
    "\n",
    "# Creating connection object\n",
    "mydb = mysql.connector.connect(\n",
    "    host=\"localhost\",\n",
    "    port=\"3307\",\n",
    "    user=\"root\",\n",
    "    password=\"Josh&2002\"\n",
    ")\n",
    "\n",
    "# Creating an instance of 'cursor' class \n",
    "# which is used to execute the 'SQL' \n",
    "# statements in 'Python'\n",
    "cursor = mydb.cursor()\n",
    "\n",
    "# Show databases\n",
    "cursor.execute(\"USE project_healthcare\")\n",
    "\n",
    "# Fetch all the rows\n",
    "databases = cursor.fetchall()\n",
    "\n",
    "# Print the databases\n",
    "for database in databases:\n",
    "    print(database[0])\n"
   ]
  },
  {
   "cell_type": "code",
   "execution_count": 60,
   "metadata": {},
   "outputs": [],
   "source": [
    "import mysql.connector\n",
    "\n",
    "# Creating connection object\n",
    "mydb = mysql.connector.connect(\n",
    "    host=\"localhost\",\n",
    "    port=\"3307\",\n",
    "    user=\"root\",\n",
    "    password=\"Josh&2002\"\n",
    ")\n",
    "\n",
    "# Creating an instance of 'cursor' class \n",
    "# which is used to execute the 'SQL' \n",
    "# statements in 'Python'\n",
    "cursor = mydb.cursor()\n",
    "\n",
    "# Show databases\n",
    "cursor.execute(\"USE project_healthcare\")\n",
    "\n",
    "# Fetch all the rows\n",
    "databases = cursor.fetchall()\n",
    "\n",
    "# Print the databases\n",
    "for database in databases:\n",
    "    print(database[0])"
   ]
  },
  {
   "cell_type": "code",
   "execution_count": 61,
   "metadata": {},
   "outputs": [],
   "source": [
    "def run_query(connection, query):\n",
    "    cursor = connection.cursor()\n",
    "    result = None\n",
    "    try:\n",
    "        cursor.execute(query)\n",
    "        result = cursor.fetchall()\n",
    "        columns = [column[0] for column in cursor.description]\n",
    "        df = pd.DataFrame(result, columns=columns)\n",
    "        return df\n",
    "    except Error as err:\n",
    "        print(f\"The error '{err}' occurred\")"
   ]
  },
  {
   "cell_type": "code",
   "execution_count": 62,
   "metadata": {},
   "outputs": [],
   "source": [
    "def execute_query(connection, query):\n",
    "    cursor = connection.cursor()\n",
    "    try:\n",
    "        cursor.execute(query)\n",
    "        connection.commit()\n",
    "        print(\"Query successful\")\n",
    "    except Error as err:\n",
    "        print(f\"The error '{err}' occurred\")"
   ]
  },
  {
   "cell_type": "code",
   "execution_count": 63,
   "metadata": {},
   "outputs": [],
   "source": [
    "import mysql.connector\n",
    "\n",
    "# Creating connection object\n",
    "mydb = mysql.connector.connect(\n",
    "    host=\"localhost\",\n",
    "    port=\"3307\",\n",
    "    user=\"root\",\n",
    "    password=\"Josh&2002\"\n",
    ")\n",
    "\n",
    "# Creating an instance of 'cursor' class \n",
    "# which is used to execute the 'SQL' \n",
    "# statements in 'Python'\n",
    "cursor = mydb.cursor()\n",
    "\n",
    "cursor.execute(\"USE project_healthcare\")\n",
    "# Show databases\n",
    "cursor.execute(\"\"\"SELECT c.District, c.State_UT, h.Households_Rural + h.Households_Urban - h.Households_Rural_Toilet_Premise - h.Households_Urban_Toilet_Premise AS Households_Without_Toilet\n",
    "FROM census c\n",
    "JOIN housing h ON c.District = h.District\n",
    "JOIN all_hospitals ah ON c.State_UT = ah.State_UT\n",
    "JOIN government_hospital gh ON c.State_UT = gh.State_UT\n",
    "WHERE ah.Total_Hospital_Beds / c.Population = (\n",
    "    SELECT MIN(ah.Total_Hospital_Beds / c.Population)\n",
    "    FROM census c\n",
    "    JOIN all_hospitals ah ON c.State_UT = ah.State_UT\n",
    ")\n",
    "ORDER BY Households_Without_Toilet DESC;\"\"\")\n",
    "\n",
    "# Fetch all the rows\n",
    "databases = cursor.fetchall()\n",
    "\n",
    "# Print the databases\n",
    "# Print the fetched rows\n",
    "for row in databases:\n",
    "    district, state_ut, households_without_toilet = row\n",
    "    print(f\"District: {district}, State/UT: {state_ut}, Households Without Toilet: {households_without_toilet}\")\n"
   ]
  },
  {
   "cell_type": "code",
   "execution_count": 54,
   "metadata": {},
   "outputs": [
    {
     "name": "stdout",
     "output_type": "stream",
     "text": [
      "Connection established successfully\n",
      "Query executed successfully\n",
      "('Gujarat', 'Ahmadabad', 7214225, 3788051, 3426174, 5435760, 3025463, 2410297, 353169, 1845383, 2198552, 3952858, 2043895, 1198152, 19320, 'Ahmadabad', 353169, 143033, 7063, 116193, 1845383, 441047, 11072, 1699598, 'Gujarat', 1770, 385, 44, 37, 2236, 41129, 'Gujarat', 364, 11715, 122, 20565, datetime.date(2016, 12, 31))\n",
      "('Maharashtra', 'Ahmadnagar', 4543159, 2342825, 2200334, 3151890, 1773355, 1378535, 1041393, 282011, 1323404, 2496560, 1166245, 865139, 15215, 'Ahmadnagar', 1041393, 318666, 77063, 407185, 282011, 65145, 7050, 207560, 'Maharashtra', 2638, 430, 101, 70, 3239, 68998, 'Maharashtra', 273, 12398, 438, 39048, datetime.date(2015, 12, 31))\n",
      "('Rajasthan', 'Ajmer', 2583052, 1324085, 1258967, 1526673, 926268, 600405, 409335, 274919, 684254, 1561077, 629951, 388040, 3984, 'Ajmer', 409335, 204258, 13917, 57716, 274919, 76702, 3024, 236980, 'Rajasthan', 2463, 579, 64, 33, 3139, 51844, 'Rajasthan', 602, 21088, 150, 10760, datetime.date(2016, 12, 31))\n"
     ]
    }
   ],
   "source": [
    "import mysql.connector\n",
    "\n",
    "try:\n",
    "    # Creating connection object\n",
    "    mydb = mysql.connector.connect(\n",
    "        host=\"localhost\",\n",
    "        port=\"3307\",\n",
    "        user=\"root\",\n",
    "        password=\"Josh&2002\",\n",
    "        database=\"project_healthcare\"  # Specify your database name here\n",
    "    )\n",
    "\n",
    "    print(\"Connection established successfully\")\n",
    "\n",
    "    # Creating an instance of 'cursor' class \n",
    "    cursor = mydb.cursor()\n",
    "\n",
    "    # Execute USE statement to select the database\n",
    "    cursor.execute(\"USE project_healthcare\")  # Replace \"your_database\" with your actual database name\n",
    "\n",
    "    # Execute your SQL query\n",
    "    cursor.execute(\"\"\"SELECT *\n",
    "    FROM census\n",
    "    JOIN housing ON census.District = housing.District\n",
    "    JOIN all_hospitals ON census.State_UT = all_hospitals.State_UT\n",
    "    JOIN government_hospital ON census.State_UT = government_hospital.State_UT\n",
    "    LIMIT 3;\"\"\")\n",
    "\n",
    "    print(\"Query executed successfully\")\n",
    "\n",
    "    # Fetch all the rows\n",
    "    rows = cursor.fetchall()\n",
    "\n",
    "    # Display the fetched rows\n",
    "    for row in rows:\n",
    "        print(row)\n",
    "\n",
    "    # Close cursor and connection\n",
    "    cursor.close()\n",
    "    mydb.close()\n",
    "    \n",
    "except mysql.connector.Error as err:\n",
    "    print(\"Error:\", err)\n"
   ]
  },
  {
   "cell_type": "code",
   "execution_count": 64,
   "metadata": {},
   "outputs": [
    {
     "data": {
      "text/html": [
       "<div>\n",
       "<style scoped>\n",
       "    .dataframe tbody tr th:only-of-type {\n",
       "        vertical-align: middle;\n",
       "    }\n",
       "\n",
       "    .dataframe tbody tr th {\n",
       "        vertical-align: top;\n",
       "    }\n",
       "\n",
       "    .dataframe thead th {\n",
       "        text-align: right;\n",
       "    }\n",
       "</style>\n",
       "<table border=\"1\" class=\"dataframe\">\n",
       "  <thead>\n",
       "    <tr style=\"text-align: right;\">\n",
       "      <th></th>\n",
       "      <th>State_UT</th>\n",
       "      <th>District</th>\n",
       "      <th>Population</th>\n",
       "      <th>Male</th>\n",
       "      <th>Female</th>\n",
       "      <th>Literate</th>\n",
       "      <th>Literate_Male</th>\n",
       "      <th>Literate_Female</th>\n",
       "      <th>Households_Rural</th>\n",
       "      <th>Households_Urban</th>\n",
       "      <th>...</th>\n",
       "      <th>Sub_District_Hospitals</th>\n",
       "      <th>District_Hospitals</th>\n",
       "      <th>Total_Hospitals</th>\n",
       "      <th>Total_Hospital_Beds</th>\n",
       "      <th>State_UT</th>\n",
       "      <th>Rural_Government_Hospitals</th>\n",
       "      <th>Rural_Government_Beds</th>\n",
       "      <th>Urban_Government_Hospitals</th>\n",
       "      <th>Urban_Government_Beds</th>\n",
       "      <th>Last_Updated</th>\n",
       "    </tr>\n",
       "  </thead>\n",
       "  <tbody>\n",
       "    <tr>\n",
       "      <th>0</th>\n",
       "      <td>Gujarat</td>\n",
       "      <td>Ahmadabad</td>\n",
       "      <td>7214225</td>\n",
       "      <td>3788051</td>\n",
       "      <td>3426174</td>\n",
       "      <td>5435760</td>\n",
       "      <td>3025463</td>\n",
       "      <td>2410297</td>\n",
       "      <td>353169</td>\n",
       "      <td>1845383</td>\n",
       "      <td>...</td>\n",
       "      <td>44</td>\n",
       "      <td>37</td>\n",
       "      <td>2236</td>\n",
       "      <td>41129</td>\n",
       "      <td>Gujarat</td>\n",
       "      <td>364</td>\n",
       "      <td>11715</td>\n",
       "      <td>122</td>\n",
       "      <td>20565</td>\n",
       "      <td>2016-12-31</td>\n",
       "    </tr>\n",
       "    <tr>\n",
       "      <th>1</th>\n",
       "      <td>Maharashtra</td>\n",
       "      <td>Ahmadnagar</td>\n",
       "      <td>4543159</td>\n",
       "      <td>2342825</td>\n",
       "      <td>2200334</td>\n",
       "      <td>3151890</td>\n",
       "      <td>1773355</td>\n",
       "      <td>1378535</td>\n",
       "      <td>1041393</td>\n",
       "      <td>282011</td>\n",
       "      <td>...</td>\n",
       "      <td>101</td>\n",
       "      <td>70</td>\n",
       "      <td>3239</td>\n",
       "      <td>68998</td>\n",
       "      <td>Maharashtra</td>\n",
       "      <td>273</td>\n",
       "      <td>12398</td>\n",
       "      <td>438</td>\n",
       "      <td>39048</td>\n",
       "      <td>2015-12-31</td>\n",
       "    </tr>\n",
       "    <tr>\n",
       "      <th>2</th>\n",
       "      <td>Rajasthan</td>\n",
       "      <td>Ajmer</td>\n",
       "      <td>2583052</td>\n",
       "      <td>1324085</td>\n",
       "      <td>1258967</td>\n",
       "      <td>1526673</td>\n",
       "      <td>926268</td>\n",
       "      <td>600405</td>\n",
       "      <td>409335</td>\n",
       "      <td>274919</td>\n",
       "      <td>...</td>\n",
       "      <td>64</td>\n",
       "      <td>33</td>\n",
       "      <td>3139</td>\n",
       "      <td>51844</td>\n",
       "      <td>Rajasthan</td>\n",
       "      <td>602</td>\n",
       "      <td>21088</td>\n",
       "      <td>150</td>\n",
       "      <td>10760</td>\n",
       "      <td>2016-12-31</td>\n",
       "    </tr>\n",
       "  </tbody>\n",
       "</table>\n",
       "<p>3 rows × 37 columns</p>\n",
       "</div>"
      ],
      "text/plain": [
       "      State_UT    District  Population     Male   Female  Literate  \\\n",
       "0      Gujarat   Ahmadabad     7214225  3788051  3426174   5435760   \n",
       "1  Maharashtra  Ahmadnagar     4543159  2342825  2200334   3151890   \n",
       "2    Rajasthan       Ajmer     2583052  1324085  1258967   1526673   \n",
       "\n",
       "   Literate_Male  Literate_Female  Households_Rural  Households_Urban  ...  \\\n",
       "0        3025463          2410297            353169           1845383  ...   \n",
       "1        1773355          1378535           1041393            282011  ...   \n",
       "2         926268           600405            409335            274919  ...   \n",
       "\n",
       "   Sub_District_Hospitals  District_Hospitals  Total_Hospitals  \\\n",
       "0                      44                  37             2236   \n",
       "1                     101                  70             3239   \n",
       "2                      64                  33             3139   \n",
       "\n",
       "   Total_Hospital_Beds     State_UT Rural_Government_Hospitals  \\\n",
       "0                41129      Gujarat                        364   \n",
       "1                68998  Maharashtra                        273   \n",
       "2                51844    Rajasthan                        602   \n",
       "\n",
       "   Rural_Government_Beds  Urban_Government_Hospitals  Urban_Government_Beds  \\\n",
       "0                  11715                         122                  20565   \n",
       "1                  12398                         438                  39048   \n",
       "2                  21088                         150                  10760   \n",
       "\n",
       "   Last_Updated  \n",
       "0    2016-12-31  \n",
       "1    2015-12-31  \n",
       "2    2016-12-31  \n",
       "\n",
       "[3 rows x 37 columns]"
      ]
     },
     "execution_count": 64,
     "metadata": {},
     "output_type": "execute_result"
    }
   ],
   "source": [
    "run_query(mydb,\"\"\"SELECT *\n",
    "    FROM census\n",
    "    JOIN housing ON census.District = housing.District\n",
    "    JOIN all_hospitals ON census.State_UT = all_hospitals.State_UT\n",
    "    JOIN government_hospital ON census.State_UT = government_hospital.State_UT\n",
    "    LIMIT 3;\"\"\")"
   ]
  },
  {
   "cell_type": "markdown",
   "metadata": {},
   "source": [
    "# Problem statement 20"
   ]
  },
  {
   "cell_type": "code",
   "execution_count": 84,
   "metadata": {},
   "outputs": [
    {
     "data": {
      "text/html": [
       "<div>\n",
       "<style scoped>\n",
       "    .dataframe tbody tr th:only-of-type {\n",
       "        vertical-align: middle;\n",
       "    }\n",
       "\n",
       "    .dataframe tbody tr th {\n",
       "        vertical-align: top;\n",
       "    }\n",
       "\n",
       "    .dataframe thead th {\n",
       "        text-align: right;\n",
       "    }\n",
       "</style>\n",
       "<table border=\"1\" class=\"dataframe\">\n",
       "  <thead>\n",
       "    <tr style=\"text-align: right;\">\n",
       "      <th></th>\n",
       "      <th>District</th>\n",
       "      <th>State_UT</th>\n",
       "      <th>Households_Without_Toilet</th>\n",
       "    </tr>\n",
       "  </thead>\n",
       "  <tbody>\n",
       "  </tbody>\n",
       "</table>\n",
       "</div>"
      ],
      "text/plain": [
       "Empty DataFrame\n",
       "Columns: [District, State_UT, Households_Without_Toilet]\n",
       "Index: []"
      ]
     },
     "execution_count": 84,
     "metadata": {},
     "output_type": "execute_result"
    }
   ],
   "source": [
    "run_query(mydb, \"\"\"SELECT c.District, c.State_UT, \n",
    "    (h.Households_Rural + h.Households_Urban - h.Households_Rural_Toilet_Premise - h.Households_Urban_Toilet_Premise) AS Households_Without_Toilet\n",
    "FROM census c\n",
    "INNER JOIN housing h ON c.District = h.District\n",
    "INNER JOIN all_hospitals ah ON c.State_UT = ah.State_UT\n",
    "INNER JOIN government_hospital gh ON c.State_UT = gh.State_UT\n",
    "WHERE ah.Total_Hospital_Beds / c.Population = (\n",
    "    SELECT MIN(ah.Total_Hospital_Beds / c.Population)\n",
    "    FROM census c\n",
    "    inner JOIN all_hospitals ah ON c.State_UT = ah.State_UT\n",
    ")\n",
    "ORDER BY Households_Without_Toilet DESC;\"\"\")"
   ]
  },
  {
   "cell_type": "markdown",
   "metadata": {},
   "source": [
    "# Problem statement 21"
   ]
  },
  {
   "cell_type": "code",
   "execution_count": 67,
   "metadata": {},
   "outputs": [
    {
     "name": "stdout",
     "output_type": "stream",
     "text": [
      "The error '1304 (42000): FUNCTION get_hospital_beds already exists' occurred\n"
     ]
    }
   ],
   "source": [
    "execute_query(mydb,\"\"\"CREATE FUNCTION get_hospital_beds(state_name TEXT)\n",
    "RETURNS INT\n",
    "DETERMINISTIC\n",
    "BEGIN\n",
    "    DECLARE result INT;\n",
    "    SELECT HospitalBeds INTO result FROM all_hospitals WHERE State_UT = state_name;\n",
    "    RETURN result;\n",
    "END;\"\"\")"
   ]
  },
  {
   "cell_type": "code",
   "execution_count": 68,
   "metadata": {},
   "outputs": [
    {
     "name": "stdout",
     "output_type": "stream",
     "text": [
      "Query successful\n"
     ]
    }
   ],
   "source": [
    "execute_query(mydb,\"\"\"CREATE FUNCTION get_population_districts(district_name VARCHAR(100))\n",
    "RETURNS INT\n",
    "DETERMINISTIC\n",
    "BEGIN\n",
    "    DECLARE total_population INT;\n",
    "    SELECT Population INTO total_population FROM census WHERE District = district_name;\n",
    "    RETURN total_population;\n",
    "END;\"\"\")"
   ]
  },
  {
   "cell_type": "code",
   "execution_count": 69,
   "metadata": {},
   "outputs": [
    {
     "name": "stdout",
     "output_type": "stream",
     "text": [
      "Query successful\n"
     ]
    }
   ],
   "source": [
    "execute_query(mydb,\"\"\"CREATE FUNCTION get_population(state_ut_name VARCHAR(100))\n",
    "RETURNS INT\n",
    "DETERMINISTIC\n",
    "BEGIN\n",
    "    DECLARE total_population INT;\n",
    "    SELECT SUM(Population) INTO total_population FROM census Where State_UT = state_ut_name;\n",
    "    RETURN total_population;\n",
    "END;\"\"\")"
   ]
  },
  {
   "cell_type": "code",
   "execution_count": 70,
   "metadata": {},
   "outputs": [
    {
     "name": "stdout",
     "output_type": "stream",
     "text": [
      "Query successful\n"
     ]
    }
   ],
   "source": [
    "execute_query(mydb, \"\"\"CREATE FUNCTION senior_citizen_population(state_ut_name VARCHAR(100))\n",
    "RETURNS INT\n",
    "DETERMINISTIC\n",
    "BEGIN\n",
    "    DECLARE total_senior_citizens INT;\n",
    "    SELECT SUM(Senior_Citizen) INTO total_senior_citizens FROM census WHERE State_UT = state_ut_name;\n",
    "    RETURN total_senior_citizens;\n",
    "END; \"\"\")"
   ]
  },
  {
   "cell_type": "code",
   "execution_count": 71,
   "metadata": {},
   "outputs": [
    {
     "name": "stdout",
     "output_type": "stream",
     "text": [
      "Query successful\n"
     ]
    }
   ],
   "source": [
    "execute_query(mydb, \"\"\"CREATE FUNCTION get_govt_hospital_beds(state_ut_name VARCHAR(100))\n",
    "RETURNS INT\n",
    "DETERMINISTIC\n",
    "BEGIN\n",
    "    DECLARE total_govt_hospital_beds INT;\n",
    "    SELECT Rural_Government_Beds + Urban_Government_Beds INTO total_govt_hospital_beds FROM government_hospital WHERE State_UT = state_ut_name;\n",
    "    RETURN total_govt_hospital_beds;\n",
    "END; \"\"\")"
   ]
  },
  {
   "cell_type": "code",
   "execution_count": 72,
   "metadata": {},
   "outputs": [
    {
     "name": "stdout",
     "output_type": "stream",
     "text": [
      "Query successful\n"
     ]
    }
   ],
   "source": [
    "execute_query(mydb, \"\"\"CREATE FUNCTION beds_per_lakh(state_ut_name VARCHAR(100))\n",
    "RETURNS DECIMAL(10, 2)\n",
    "DETERMINISTIC\n",
    "BEGIN\n",
    "    DECLARE total_population INT;\n",
    "    DECLARE total_hospital_beds INT;\n",
    "    DECLARE beds_per_lakh DECIMAL(10, 2);\n",
    "    SELECT SUM(Population) INTO total_population FROM census WHERE State_UT = state_ut_name;\n",
    "    SELECT Total_Hospital_Beds INTO total_hospital_beds FROM all_hospitals WHERE State_UT = state_ut_name;\n",
    "    SET beds_per_lakh = (total_hospital_beds / total_population) * 100000;\n",
    "    RETURN beds_per_lakh;\n",
    "END;\"\"\")"
   ]
  },
  {
   "cell_type": "code",
   "execution_count": 73,
   "metadata": {},
   "outputs": [
    {
     "name": "stdout",
     "output_type": "stream",
     "text": [
      "Query successful\n"
     ]
    }
   ],
   "source": [
    "execute_query(mydb, \"\"\"CREATE FUNCTION govt_beds_per_lakh(state_ut_name VARCHAR(100))\n",
    "RETURNS DECIMAL(10, 2)\n",
    "DETERMINISTIC\n",
    "BEGIN\n",
    "    DECLARE total_population INT;\n",
    "    DECLARE total_govt_hospital_beds INT;\n",
    "    DECLARE govt_beds_per_lakh DECIMAL(10, 2);\n",
    "    SELECT SUM(Population) INTO total_population FROM census WHERE State_UT = state_ut_name;\n",
    "    SELECT Rural_Government_Beds + Urban_Government_Beds INTO total_govt_hospital_beds FROM government_hospital WHERE State_UT = state_ut_name;\n",
    "    SET govt_beds_per_lakh = (total_govt_hospital_beds / total_population) * 100000;\n",
    "    RETURN govt_beds_per_lakh;\n",
    "END;\"\"\")"
   ]
  },
  {
   "cell_type": "code",
   "execution_count": null,
   "metadata": {},
   "outputs": [],
   "source": []
  }
 ],
 "metadata": {
  "kernelspec": {
   "display_name": "Python 3",
   "language": "python",
   "name": "python3"
  },
  "language_info": {
   "codemirror_mode": {
    "name": "ipython",
    "version": 3
   },
   "file_extension": ".py",
   "mimetype": "text/x-python",
   "name": "python",
   "nbconvert_exporter": "python",
   "pygments_lexer": "ipython3",
   "version": "3.10.11"
  }
 },
 "nbformat": 4,
 "nbformat_minor": 2
}
