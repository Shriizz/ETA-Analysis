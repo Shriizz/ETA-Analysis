{
 "cells": [
  {
   "cell_type": "code",
   "execution_count": 1,
   "metadata": {},
   "outputs": [],
   "source": [
    "import mysql.connector"
   ]
  },
  {
   "cell_type": "code",
   "execution_count": 2,
   "metadata": {},
   "outputs": [
    {
     "name": "stdout",
     "output_type": "stream",
     "text": [
      "Connnected to the MySQL DB\n"
     ]
    }
   ],
   "source": [
    "config = {\n",
    "    'user' : 'shriyans',\n",
    "    'password' : '21@Workbench',\n",
    "    'host' : 'localhost',\n",
    "    'port' : '3307',\n",
    "    }\n",
    "\n",
    "try:\n",
    "    cnx = mysql.connector.connect(**config)\n",
    "    print(\"Connnected to the MySQL DB\")\n",
    "except mysql.connector.Error as err:\n",
    "    print(\"Error:\",err)"
   ]
  },
  {
   "cell_type": "code",
   "execution_count": 3,
   "metadata": {},
   "outputs": [
    {
     "name": "stdout",
     "output_type": "stream",
     "text": [
      "Error:  1007 (HY000): Can't create database 'eta_analysis_db'; database exists\n"
     ]
    }
   ],
   "source": [
    "cursor = cnx.cursor()\n",
    "\n",
    "database_query = \"CREATE DATABASE ETA_ANALYSIS_DB\"\n",
    "\n",
    "try:\n",
    "    cursor.execute(database_query)\n",
    "    print(\"DB Created Successfully\")\n",
    "except mysql.connector.Error as err:\n",
    "    print(\"Error: \",err)"
   ]
  },
  {
   "cell_type": "code",
   "execution_count": null,
   "metadata": {},
   "outputs": [],
   "source": []
  }
 ],
 "metadata": {
  "kernelspec": {
   "display_name": "Python 3",
   "language": "python",
   "name": "python3"
  },
  "language_info": {
   "codemirror_mode": {
    "name": "ipython",
    "version": 3
   },
   "file_extension": ".py",
   "mimetype": "text/x-python",
   "name": "python",
   "nbconvert_exporter": "python",
   "pygments_lexer": "ipython3",
   "version": "3.11.8"
  }
 },
 "nbformat": 4,
 "nbformat_minor": 2
}
